{
 "cells": [
  {
   "cell_type": "code",
   "execution_count": 1,
   "id": "flush-tamil",
   "metadata": {},
   "outputs": [],
   "source": [
    "import pandas as pd\n",
    "import numpy as np"
   ]
  },
  {
   "cell_type": "code",
   "execution_count": 2,
   "id": "shared-springer",
   "metadata": {},
   "outputs": [],
   "source": [
    "df_train = pd.read_csv('../../dataset/meal_service/train.csv')\n",
    "df_test = pd.read_csv('../../dataset/meal_service/test.csv')\n",
    "df_all = pd.concat([df_train, df_test])"
   ]
  },
  {
   "cell_type": "code",
   "execution_count": 3,
   "id": "individual-graphics",
   "metadata": {},
   "outputs": [],
   "source": [
    "def seperate_and_processing_menu_str(menu_row):\n",
    "    # split by space\n",
    "    splits = menu_row.split(' ')\n",
    "    menu = []\n",
    "    is_new_menu = False\n",
    "    for dish in splits:\n",
    "        if len(dish) > 1:\n",
    "            # find (New)\n",
    "            if '(New)' in dish:\n",
    "                menu.append(dish.split('(New)')[0] + dish.split('(New)')[1])\n",
    "                is_new_menu = True\n",
    "            elif '(' not in dish and ')' not in dish:\n",
    "                menu.append(dish)\n",
    "    if len(menu) <= 3:\n",
    "        # no menu today\n",
    "        menu = ['-']\n",
    "    \n",
    "    return menu, is_new_menu"
   ]
  },
  {
   "cell_type": "code",
   "execution_count": null,
   "id": "threatened-mexico",
   "metadata": {},
   "outputs": [],
   "source": []
  },
  {
   "cell_type": "code",
   "execution_count": 4,
   "id": "written-organic",
   "metadata": {},
   "outputs": [],
   "source": [
    "def get_menu_info(df):\n",
    "    is_new_lunch_menu = []\n",
    "    is_new_dinner_menu = []\n",
    "    lunch_menus = []\n",
    "    dinner_menus = []\n",
    "    menus = []\n",
    "    for i in range(0, len(df)):\n",
    "        row_lunch = df.iloc[i]['중식메뉴']\n",
    "        row_dinner = df.iloc[i]['석식메뉴']\n",
    "        \n",
    "        lunch_menu, new_lunch_menu = seperate_and_processing_menu_str(row_lunch)\n",
    "        is_new_lunch_menu.append(1) if new_lunch_menu else is_new_lunch_menu.append(0)\n",
    "        \n",
    "        dinner_menu, new_dinner_menu = seperate_and_processing_menu_str(row_dinner)\n",
    "        is_new_dinner_menu.append(1) if new_dinner_menu else is_new_dinner_menu.append(0)\n",
    "        \n",
    "        if len(lunch_menu) > 1:\n",
    "            menus.append(lunch_menu)\n",
    "        if len(dinner_menu) > 1:\n",
    "            menus.append(dinner_menu)\n",
    "        lunch_menus.append(lunch_menu)\n",
    "        dinner_menus.append(dinner_menu)\n",
    "    \n",
    "    return is_new_lunch_menu, is_new_dinner_menu, menus, lunch_menus, dinner_menus"
   ]
  },
  {
   "cell_type": "code",
   "execution_count": 5,
   "id": "deluxe-latter",
   "metadata": {},
   "outputs": [],
   "source": [
    "is_new_lunch_menu, is_new_dinner_menu, menus, lunch_menus, dinner_menus = get_menu_info(df_train)"
   ]
  },
  {
   "cell_type": "code",
   "execution_count": 6,
   "id": "latest-electronics",
   "metadata": {},
   "outputs": [
    {
     "name": "stdout",
     "output_type": "stream",
     "text": [
      "Training word2vector\n"
     ]
    }
   ],
   "source": [
    "from gensim.models import Word2Vec\n",
    "from gensim.models import KeyedVectors\n",
    "\n",
    "try:\n",
    "    model = Word2Vec.load('food_embedding2.model')\n",
    "    print('Model loaded')\n",
    "except:\n",
    "    print('Training word2vector')\n",
    "    model = Word2Vec(sentences=menus, vector_size=200, window=7, min_count=0, workers=4, sg=0, epochs=5000)\n",
    "    model.save('food_embedding2.model')"
   ]
  },
  {
   "cell_type": "code",
   "execution_count": 7,
   "id": "simplified-church",
   "metadata": {},
   "outputs": [
    {
     "data": {
      "text/plain": [
       "array([ 2.5621998 , -2.9234662 , -1.8462129 ,  0.747244  ,  1.2531886 ,\n",
       "       -2.826936  , -0.4192492 , -1.7955477 , -0.4805617 , -0.4558589 ,\n",
       "        2.4809537 , -2.5492058 ,  0.22512482, -0.39082628,  1.5270308 ,\n",
       "       -0.3601735 ,  1.1617361 ,  0.6410036 , -0.78434134, -1.587272  ,\n",
       "       -1.391548  , -0.78139514,  4.4507127 ,  0.82720363,  0.23091164,\n",
       "        1.2979548 , -0.9594517 ,  4.211911  ,  0.31241018, -0.3357658 ,\n",
       "        1.8037072 , -1.0004157 , -1.3151643 , -0.5957134 , -1.0063505 ,\n",
       "       -1.9670038 , -1.5172161 ,  1.9287276 ,  0.7961582 , -0.3059118 ,\n",
       "       -1.1755251 , -1.7106228 ,  0.29821345, -0.3805697 , -1.1606536 ,\n",
       "        1.3811921 , -0.71667075, -1.2156348 ,  2.0016675 , -0.08737516,\n",
       "       -1.0720786 , -1.8707728 , -3.1563582 ,  0.25879544,  0.5672593 ,\n",
       "        0.7546911 , -2.3873246 , -0.44362482, -0.6848357 ,  1.2052848 ,\n",
       "        2.6414297 , -0.28164858,  1.8826356 ,  0.5459539 , -0.81961304,\n",
       "        2.425498  ,  0.12786618, -1.3171816 , -1.2053521 ,  2.340075  ,\n",
       "        0.17675878, -0.6907566 ,  0.6274448 , -1.4089652 ,  0.27158153,\n",
       "       -0.1061651 , -0.7356673 ,  1.7663546 ,  0.6887175 , -1.8203158 ,\n",
       "       -0.5360883 ,  2.5125942 , -0.41745725,  1.8375603 ,  1.0039878 ,\n",
       "        0.8192588 ,  3.2923768 , -1.2808318 , -1.1346579 , -0.82904994,\n",
       "        1.0035181 , -2.472701  ,  1.4767379 ,  2.814817  , -0.53309673,\n",
       "       -0.7662389 , -0.7805961 , -2.3113453 ,  0.95847106,  0.38413477,\n",
       "       -1.0125799 ,  1.0970697 ,  0.84558314,  1.7625377 , -0.80360234,\n",
       "       -0.04160219,  4.558879  , -0.18502176, -1.5333056 , -2.844745  ,\n",
       "        0.26967305, -1.8359444 ,  0.9162077 , -2.7708151 ,  1.1186975 ,\n",
       "        0.2647351 ,  2.2328677 , -0.93684375, -0.38984996,  0.3845641 ,\n",
       "       -3.1462808 , -0.159804  , -1.5745114 , -0.73854405,  0.28320292,\n",
       "        0.13471644,  0.995679  ,  0.14411424,  1.6693218 ,  0.43228585,\n",
       "       -2.4983187 ,  0.30601653,  0.7345035 , -0.86049724, -0.928745  ,\n",
       "        3.1474514 , -0.31797975,  1.8895438 , -1.0352776 ,  0.95105314,\n",
       "        2.346746  , -1.0513891 , -2.8431025 ,  1.1369596 ,  2.2604558 ,\n",
       "        0.76754224,  0.72497725, -2.358535  , -0.9366801 ,  2.4466686 ,\n",
       "       -0.52484494, -0.6990487 , -0.00511203,  1.2146649 , -1.1146214 ,\n",
       "        1.7996862 ,  1.8648866 , -0.35202044,  3.4867206 ,  1.0176902 ,\n",
       "        0.18264411, -0.5639284 ,  0.4633389 ,  2.3047044 ,  2.928223  ,\n",
       "        1.6229556 , -0.71984583,  1.6133696 , -2.359756  ,  0.9272201 ,\n",
       "       -0.6518515 ,  1.301282  ,  2.497785  , -0.7057827 , -1.6310524 ,\n",
       "       -2.545294  , -0.38327032,  0.365095  ,  2.7011795 ,  2.2791336 ,\n",
       "       -3.3140168 ,  0.8715078 , -1.6687948 ,  0.5151057 ,  0.5654541 ,\n",
       "       -1.7182101 ,  1.1099746 , -0.35034603,  0.9824655 , -1.3390282 ,\n",
       "       -0.10557862, -0.7605057 , -2.0616634 ,  2.5067053 , -1.2233884 ,\n",
       "       -1.2717098 , -0.60204744,  1.6829557 , -0.55096096,  2.1365018 ],\n",
       "      dtype=float32)"
      ]
     },
     "execution_count": 7,
     "metadata": {},
     "output_type": "execute_result"
    }
   ],
   "source": [
    "\n",
    "a =model.wv.get_vector('된장찌개')\n",
    "a"
   ]
  },
  {
   "cell_type": "code",
   "execution_count": 8,
   "id": "defined-workplace",
   "metadata": {},
   "outputs": [
    {
     "data": {
      "text/plain": [
       "numpy.ndarray"
      ]
     },
     "execution_count": 8,
     "metadata": {},
     "output_type": "execute_result"
    }
   ],
   "source": [
    "type(a)"
   ]
  },
  {
   "cell_type": "code",
   "execution_count": 9,
   "id": "loved-solomon",
   "metadata": {},
   "outputs": [
    {
     "data": {
      "text/plain": [
       "array([0, 0, 0, 0, 0, 0, 0, 0, 0, 0, 0, 0, 0, 0, 0, 0, 0, 0, 0, 0, 0, 0,\n",
       "       0, 0, 0, 0, 0, 0, 0, 0, 0, 0, 0, 0, 0, 0, 0, 0, 0, 0, 0, 0, 0, 0,\n",
       "       0, 0, 0, 0, 0, 0, 0, 0, 0, 0, 0, 0, 0, 0, 0, 0, 0, 0, 0, 0, 0, 0,\n",
       "       0, 0, 0, 0, 0, 0, 0, 0, 0, 0, 0, 0, 0, 0, 0, 0, 0, 0, 0, 0, 0, 0,\n",
       "       0, 0, 0, 0, 0, 0, 0, 0, 0, 0, 0, 0, 0, 0, 0, 0, 0, 0, 0, 0, 0, 0,\n",
       "       0, 0, 0, 0, 0, 0, 0, 0, 0, 0, 0, 0, 0, 0, 0, 0, 0, 0, 0, 0, 0, 0,\n",
       "       0, 0, 0, 0, 0, 0, 0, 0, 0, 0, 0, 0, 0, 0, 0, 0, 0, 0, 0, 0, 0, 0,\n",
       "       0, 0, 0, 0, 0, 0, 0, 0, 0, 0, 0, 0, 0, 0, 0, 0, 0, 0, 0, 0, 0, 0,\n",
       "       0, 0, 0, 0, 0, 0, 0, 0, 0, 0, 0, 0, 0, 0, 0, 0, 0, 0, 0, 0, 0, 0,\n",
       "       0, 0])"
      ]
     },
     "execution_count": 9,
     "metadata": {},
     "output_type": "execute_result"
    }
   ],
   "source": [
    "b = np.array([0] * 200)\n",
    "b\n"
   ]
  },
  {
   "cell_type": "code",
   "execution_count": 10,
   "id": "experienced-worship",
   "metadata": {},
   "outputs": [],
   "source": [
    "def menu_to_vectors(model, menus):\n",
    "    soups = []\n",
    "    mains = []\n",
    "    for menu in menus:\n",
    "        if len(menu) > 2:\n",
    "            soup = menu[1]\n",
    "            main = menu[2]\n",
    "            soups.append(model.wv.get_vector(soup))\n",
    "            mains.append(model.wv.get_vector(main))\n",
    "        else:\n",
    "            soups.append(np.array([0] * 200))\n",
    "            main.append(np.array([0] * 200))\n",
    "    \n",
    "    return soups, mains"
   ]
  },
  {
   "cell_type": "code",
   "execution_count": 11,
   "id": "copyrighted-convergence",
   "metadata": {},
   "outputs": [],
   "source": [
    "lunch_soups_list, lunch_mains_list = menu_to_vectors(model, lunch_menus)"
   ]
  },
  {
   "cell_type": "code",
   "execution_count": 12,
   "id": "liquid-thermal",
   "metadata": {},
   "outputs": [],
   "source": [
    "lunch_soups = pd.DataFrame({'lunch_soups': lunch_soups_list})"
   ]
  },
  {
   "cell_type": "code",
   "execution_count": 13,
   "id": "lasting-wholesale",
   "metadata": {},
   "outputs": [
    {
     "data": {
      "text/html": [
       "<div>\n",
       "<style scoped>\n",
       "    .dataframe tbody tr th:only-of-type {\n",
       "        vertical-align: middle;\n",
       "    }\n",
       "\n",
       "    .dataframe tbody tr th {\n",
       "        vertical-align: top;\n",
       "    }\n",
       "\n",
       "    .dataframe thead th {\n",
       "        text-align: right;\n",
       "    }\n",
       "</style>\n",
       "<table border=\"1\" class=\"dataframe\">\n",
       "  <thead>\n",
       "    <tr style=\"text-align: right;\">\n",
       "      <th></th>\n",
       "      <th>lunch_soups</th>\n",
       "    </tr>\n",
       "  </thead>\n",
       "  <tbody>\n",
       "    <tr>\n",
       "      <th>0</th>\n",
       "      <td>[0.7157718, 0.17222802, -1.4951952, 0.29216596...</td>\n",
       "    </tr>\n",
       "    <tr>\n",
       "      <th>1</th>\n",
       "      <td>[-0.8692188, -1.4180783, -0.5114756, -0.219945...</td>\n",
       "    </tr>\n",
       "    <tr>\n",
       "      <th>2</th>\n",
       "      <td>[2.0050225, -0.90456784, -0.56100386, -1.67317...</td>\n",
       "    </tr>\n",
       "    <tr>\n",
       "      <th>3</th>\n",
       "      <td>[-0.96780944, -0.43067113, -2.8945706, 0.43301...</td>\n",
       "    </tr>\n",
       "    <tr>\n",
       "      <th>4</th>\n",
       "      <td>[0.34467676, -2.0340931, -4.163531, 0.06545718...</td>\n",
       "    </tr>\n",
       "    <tr>\n",
       "      <th>...</th>\n",
       "      <td>...</td>\n",
       "    </tr>\n",
       "    <tr>\n",
       "      <th>1200</th>\n",
       "      <td>[-0.18243644, -0.12082305, -2.0283463, -0.6465...</td>\n",
       "    </tr>\n",
       "    <tr>\n",
       "      <th>1201</th>\n",
       "      <td>[0.5375248, -1.6184533, -0.64022994, 0.6134748...</td>\n",
       "    </tr>\n",
       "    <tr>\n",
       "      <th>1202</th>\n",
       "      <td>[0.4657313, -1.2884558, -1.6994308, 0.6908728,...</td>\n",
       "    </tr>\n",
       "    <tr>\n",
       "      <th>1203</th>\n",
       "      <td>[0.70798653, -0.19663419, -0.8548546, -0.12540...</td>\n",
       "    </tr>\n",
       "    <tr>\n",
       "      <th>1204</th>\n",
       "      <td>[0.08029665, 0.4043274, -2.0630796, -0.3594328...</td>\n",
       "    </tr>\n",
       "  </tbody>\n",
       "</table>\n",
       "<p>1205 rows × 1 columns</p>\n",
       "</div>"
      ],
      "text/plain": [
       "                                            lunch_soups\n",
       "0     [0.7157718, 0.17222802, -1.4951952, 0.29216596...\n",
       "1     [-0.8692188, -1.4180783, -0.5114756, -0.219945...\n",
       "2     [2.0050225, -0.90456784, -0.56100386, -1.67317...\n",
       "3     [-0.96780944, -0.43067113, -2.8945706, 0.43301...\n",
       "4     [0.34467676, -2.0340931, -4.163531, 0.06545718...\n",
       "...                                                 ...\n",
       "1200  [-0.18243644, -0.12082305, -2.0283463, -0.6465...\n",
       "1201  [0.5375248, -1.6184533, -0.64022994, 0.6134748...\n",
       "1202  [0.4657313, -1.2884558, -1.6994308, 0.6908728,...\n",
       "1203  [0.70798653, -0.19663419, -0.8548546, -0.12540...\n",
       "1204  [0.08029665, 0.4043274, -2.0630796, -0.3594328...\n",
       "\n",
       "[1205 rows x 1 columns]"
      ]
     },
     "execution_count": 13,
     "metadata": {},
     "output_type": "execute_result"
    }
   ],
   "source": [
    "lunch_soups"
   ]
  },
  {
   "cell_type": "code",
   "execution_count": null,
   "id": "civic-henry",
   "metadata": {},
   "outputs": [],
   "source": []
  }
 ],
 "metadata": {
  "kernelspec": {
   "display_name": "Python 3",
   "language": "python",
   "name": "python3"
  },
  "language_info": {
   "codemirror_mode": {
    "name": "ipython",
    "version": 3
   },
   "file_extension": ".py",
   "mimetype": "text/x-python",
   "name": "python",
   "nbconvert_exporter": "python",
   "pygments_lexer": "ipython3",
   "version": "3.8.5"
  }
 },
 "nbformat": 4,
 "nbformat_minor": 5
}
